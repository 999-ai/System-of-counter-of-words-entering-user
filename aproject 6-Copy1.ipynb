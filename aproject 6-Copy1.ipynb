{
 "cells": [
  {
   "cell_type": "code",
   "execution_count": null,
   "id": "30eebe15-24e9-4947-a96e-2bedd53202de",
   "metadata": {},
   "outputs": [],
   "source": [
    "sentence=input(\"Make a sentence for me\")\n",
    "new_sentence=sentence.split()\n",
    "word_number={}\n",
    "def world_counter():\n",
    " for word in new_sentence:\n",
    "    if word in word_number:\n",
    "     word_number[word]+=1\n",
    "    \n",
    "    else:\n",
    "      word_number[word]=1 \n",
    " return word_number\n",
    "\n",
    "result=world_counter()\n",
    "print(result)"
   ]
  }
 ],
 "metadata": {
  "kernelspec": {
   "display_name": "Python 3 (ipykernel)",
   "language": "python",
   "name": "python3"
  },
  "language_info": {
   "codemirror_mode": {
    "name": "ipython",
    "version": 3
   },
   "file_extension": ".py",
   "mimetype": "text/x-python",
   "name": "python",
   "nbconvert_exporter": "python",
   "pygments_lexer": "ipython3",
   "version": "3.12.4"
  }
 },
 "nbformat": 4,
 "nbformat_minor": 5
}
